{
 "cells": [
  {
   "cell_type": "code",
   "execution_count": 2,
   "id": "7b80b20f-ba09-48b3-a4a7-d6ade162e143",
   "metadata": {},
   "outputs": [
    {
     "name": "stdout",
     "output_type": "stream",
     "text": [
      "Читаем uzbek/json/hulosat_val.json …\n",
      "✅  Готово! Файл сохранён в /home/ma-user/work/uzbek/json/hulosat_val.json\n",
      "[\n",
      "  {\n",
      "    \"messages\": [\n",
      "      {\n",
      "        \"role\": \"user\",\n",
      "        \"content\": \"<image>\\nYou are an expert OCR engine specialized in handwritten historical documents. Transcribe **every** character exactly as it appears — preserve original spelling, punctuation, diacritics, ligatures, and archaic letters. Do **not** add, omit, normalize, correct, or format in any way. Output plain text only, matching the input one-to-one.\"\n",
      "      },\n",
      "      {\n",
      "        \"role\": \"assistant\",\n",
      "        \"content\": \"الزرفقة وال …\n"
     ]
    }
   ],
   "source": [
    "# %% [markdown]\n",
    "# # Замена префикса путей в поле \"images\" JSON‑датасета\n",
    "#\n",
    "# Этот ноутбук повторяет функциональность скрипта *replace_image_paths.py*\n",
    "# без argparse и CLI.  \n",
    "# Просто укажите нужные файлы и префиксы в переменных ниже и запустите ячейки.\n",
    "#\n",
    "# ---\n",
    "# ## Параметры\n",
    "\n",
    "# %%\n",
    "# import ipywidgets as widgets  # ← раскомментируйте, если хотите виджеты\n",
    "\n",
    "# Настройки (отредактируйте под себя):\n",
    "IN_FILE  = \"uzbek/json/hulosat_val.json\"\n",
    "OUT_FILE = \"uzbek/json/hulosat_val.json\"\n",
    "OLD_PREFIX = \"/home/jovyan/people/murtazin/LLaMA-Factory/datasets/uzbek/hulosat_images\"\n",
    "NEW_PREFIX = \"/home/ma-user/work/uzbek/hulosat_images\"\n",
    "\n",
    "# При использовании виджетов:\n",
    "# IN_FILE  = widgets.Text(value=\"data.json\", description=\"Входной JSON:\")\n",
    "# OUT_FILE = widgets.Text(value=\"data_fixed.json\", description=\"Выходной JSON:\")\n",
    "# OLD_PREFIX = widgets.Text(value=OLD_PREFIX, description=\"Старый префикс:\")\n",
    "# NEW_PREFIX = widgets.Text(value=NEW_PREFIX, description=\"Новый префикс:\")\n",
    "# display(IN_FILE, OUT_FILE, OLD_PREFIX, NEW_PREFIX)\n",
    "\n",
    "# %%\n",
    "import json\n",
    "from pathlib import Path\n",
    "\n",
    "def replace_paths(obj, old_prefix: str, new_prefix: str):\n",
    "    \"\"\"\n",
    "    Рекурсивно обходит словари/списки и заменяет old_prefix на new_prefix\n",
    "    в каждой строке списка, находящегося под ключом 'images'.\n",
    "    \"\"\"\n",
    "    if isinstance(obj, dict):\n",
    "        if obj.get(\"images\") and isinstance(obj[\"images\"], list):\n",
    "            obj[\"images\"] = [\n",
    "                s.replace(old_prefix, new_prefix, 1) if isinstance(s, str) else s\n",
    "                for s in obj[\"images\"]\n",
    "            ]\n",
    "        # рекурсивный обход\n",
    "        for key, value in obj.items():\n",
    "            obj[key] = replace_paths(value, old_prefix, new_prefix)\n",
    "    elif isinstance(obj, list):\n",
    "        obj = [replace_paths(item, old_prefix, new_prefix) for item in obj]\n",
    "    return obj\n",
    "\n",
    "# %%\n",
    "# Загружаем JSON\n",
    "print(f\"Читаем {IN_FILE} …\")\n",
    "with open(IN_FILE, \"r\", encoding=\"utf-8\") as f:\n",
    "    data = json.load(f)\n",
    "\n",
    "# %%\n",
    "# Делаем замену\n",
    "data_fixed = replace_paths(data, OLD_PREFIX, NEW_PREFIX)\n",
    "\n",
    "# %%\n",
    "# Сохраняем результат\n",
    "out_path = Path(OUT_FILE)\n",
    "out_path.write_text(json.dumps(data_fixed, ensure_ascii=False, indent=2),\n",
    "                    encoding=\"utf-8\")\n",
    "print(f\"✅  Готово! Файл сохранён в {out_path.resolve()}\")\n",
    "\n",
    "# %%\n",
    "# Быстрый просмотр первых 500 символов результата\n",
    "print(out_path.read_text(encoding=\"utf-8\")[:500] + \" …\")"
   ]
  },
  {
   "cell_type": "code",
   "execution_count": null,
   "id": "34d70e5d-b261-486b-88a3-bb8f3a3b06cc",
   "metadata": {},
   "outputs": [],
   "source": []
  }
 ],
 "metadata": {
  "kernelspec": {
   "display_name": "PyTorch-2.1.0",
   "language": "python",
   "name": "pytorch-2.1.0"
  },
  "language_info": {
   "codemirror_mode": {
    "name": "ipython",
    "version": 3
   },
   "file_extension": ".py",
   "mimetype": "text/x-python",
   "name": "python",
   "nbconvert_exporter": "python",
   "pygments_lexer": "ipython3",
   "version": "3.9.10"
  }
 },
 "nbformat": 4,
 "nbformat_minor": 5
}
